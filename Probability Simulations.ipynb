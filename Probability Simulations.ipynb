{
 "cells": [
  {
   "cell_type": "markdown",
   "metadata": {},
   "source": [
    "# Monty Hall Problem\n",
    "\n",
    "### Description\n",
    ">The Monty Hall problem is a brain teaser, in the form of a probability puzzle, loosely based on the American television game show Let's Make a Deal and named after its original host, Monty Hall. The problem was originally posed (and solved) in a letter by Steve Selvin to the American Statistician in 1975 (Selvin 1975a), (Selvin 1975b). It became famous as a question from a reader's letter quoted in Marilyn vos Savant's \"Ask Marilyn\" column in Parade magazine in 1990 (vos Savant 1990a):\n",
    "\n",
    ">Suppose you're on a game show, and you're given the choice of three doors: Behind one door is a car; behind the others, goats. You pick a door, say No. 1, and the host, who knows what's behind the doors, opens another door, say No. 3, which has a goat. He then says to you, \"Do you want to pick door No. 2?\" Is it to your advantage to switch your choice?\n",
    "\n",
    ">Vos Savant's response was that the contestant should switch to the other door (vos Savant 1990a). Under the standard assumptions, contestants who switch have a 2/3 chance of winning the car, while contestants who stick to their initial choice have only a 1/3 chance.\n",
    "\n",
    "![](Images/Monty Hall.jpg)\n",
    "\n",
    "\n",
    "### The Simple Solution\n",
    "\n",
    "The solution presented by vos Savant (1990b) in Parade shows the three possible arrangements of one car and two goats behind three doors and the result of staying or switching after initially picking door 1 in each case:\n",
    "\n",
    "\n",
    "| Behind Door #1 | Behind Door #2 | Behind Door #3 | Result if staying at door #1 | Result if switching to the door offered |\n",
    "|----------------|----------------|----------------|------------------------------|-----------------------------------------|\n",
    "| **Car**        | Goat           | Goat           | **Wins Car**                 | Wins Goat                               |\n",
    "| Goat           | **Car**        | Goat           | Wins Goat                    | **Wins Car**                            |\n",
    "| Goat           | Goat           | **Car**        | Wins Goat                    | **Wins Car**                            |\n",
    "\n",
    "\n",
    "<br>\n",
    "\n",
    "#### Hypothesis: We expect a 66.67% chance of winning if we switch, and 33.33% if we stay\n",
    "<br>\n"
   ]
  },
  {
   "cell_type": "code",
   "execution_count": 1,
   "metadata": {
    "collapsed": true
   },
   "outputs": [],
   "source": [
    "import random\n",
    "import numpy as np"
   ]
  },
  {
   "cell_type": "code",
   "execution_count": 2,
   "metadata": {},
   "outputs": [
    {
     "name": "stdout",
     "output_type": "stream",
     "text": [
      "Changing doors has 666736 wins and 333263 losses out of 1000000 trials\n",
      "Chances of winning if you switch:  66.67  %\n",
      "Chances of winning if you stay:  33.33  %\n"
     ]
    }
   ],
   "source": [
    "doors = [\"goat\", \"goat\", \"car\"]\n",
    "switch_wins = 0\n",
    "switch_losses = 0\n",
    "iterations = 1000000\n",
    "\n",
    "for trials in range(1,iterations):\n",
    "    random.shuffle(doors)\n",
    "    door_picked = random.randint(0,2)\n",
    "    door_car = [i for i, x in enumerate(doors) if x == \"car\"]\n",
    "    goats = [i for i, x in enumerate(doors) if x == \"goat\"]\n",
    "    if door_picked in goats:\n",
    "        goats.remove(door_picked)\n",
    "    goat_door = random.choice(goats)\n",
    "    door_to_switch = [0,1,2]\n",
    "    door_to_switch.remove(goat_door)\n",
    "    door_to_switch.remove(door_picked)\n",
    "    if (door_to_switch == door_car):\n",
    "        switch_wins += 1\n",
    "    else:\n",
    "        switch_losses += 1\n",
    "\n",
    "switch_win_percent = switch_wins/iterations*100\n",
    "stay_win_percent = switch_losses/iterations*100\n",
    "        \n",
    "print(\"Changing doors has {} wins and {} losses out of {} trials\" .format(switch_wins, switch_losses, iterations))\n",
    "print(\"Chances of winning if you switch: %6.2f \" % switch_win_percent, \"%\")\n",
    "print(\"Chances of winning if you stay: %6.2f \" % stay_win_percent, \"%\")"
   ]
  },
  {
   "cell_type": "markdown",
   "metadata": {},
   "source": [
    "#### After running a million simulations, we can conclude that switching doors is always a better choice"
   ]
  },
  {
   "cell_type": "markdown",
   "metadata": {
    "collapsed": true
   },
   "source": [
    "<br>\n",
    "<br>"
   ]
  },
  {
   "cell_type": "markdown",
   "metadata": {},
   "source": [
    "# The Birthday Problem\n",
    "\n",
    "### Description\n",
    "> The birthday problem or birthday paradox concerns the probability that, in a set of n randomly chosen people, some pair of them will have the same birthday. By the pigeonhole principle, the probability reaches 100% when the number of people reaches 367 (since there are only 366 possible birthdays, including February 29). However, 99.9% probability is reached with just 70 people, and 50% probability with 23 people. These conclusions are based on the assumption that each day of the year (excluding February 29) is equally probable for a birthday.\n",
    "\n",
    "#### My approach\n",
    "Rather than calculating the probability of two probability of having the same birthday, I calculated probability that no two people have the same birthday.\n",
    "<br>\n",
    "* P(X): Probability of at least two people having the same birthday,\n",
    "* P(X') = 1 - P(X): Probability that no two people have the same birthday\n",
    "\n",
    "#### Birthday Probability\n",
    "If there are only two people in the room, then P(X') = (365/365) x (364/365)"
   ]
  },
  {
   "cell_type": "code",
   "execution_count": 98,
   "metadata": {},
   "outputs": [
    {
     "data": {
      "text/html": [
       "<div>\n",
       "<style scoped>\n",
       "    .dataframe tbody tr th:only-of-type {\n",
       "        vertical-align: middle;\n",
       "    }\n",
       "\n",
       "    .dataframe tbody tr th {\n",
       "        vertical-align: top;\n",
       "    }\n",
       "\n",
       "    .dataframe thead th {\n",
       "        text-align: right;\n",
       "    }\n",
       "</style>\n",
       "<table border=\"1\" class=\"dataframe\">\n",
       "  <thead>\n",
       "    <tr style=\"text-align: right;\">\n",
       "      <th></th>\n",
       "      <th>Probability of Matching Birthdays</th>\n",
       "      <th>Probability of No Matching Birthdays</th>\n",
       "      <th>Number of People</th>\n",
       "    </tr>\n",
       "  </thead>\n",
       "  <tbody>\n",
       "    <tr>\n",
       "      <th>0</th>\n",
       "      <td>0.000000</td>\n",
       "      <td>100.000000</td>\n",
       "      <td>1</td>\n",
       "    </tr>\n",
       "    <tr>\n",
       "      <th>1</th>\n",
       "      <td>0.273973</td>\n",
       "      <td>99.726027</td>\n",
       "      <td>2</td>\n",
       "    </tr>\n",
       "    <tr>\n",
       "      <th>2</th>\n",
       "      <td>0.820417</td>\n",
       "      <td>99.179583</td>\n",
       "      <td>3</td>\n",
       "    </tr>\n",
       "    <tr>\n",
       "      <th>3</th>\n",
       "      <td>1.635591</td>\n",
       "      <td>98.364409</td>\n",
       "      <td>4</td>\n",
       "    </tr>\n",
       "    <tr>\n",
       "      <th>4</th>\n",
       "      <td>2.713557</td>\n",
       "      <td>97.286443</td>\n",
       "      <td>5</td>\n",
       "    </tr>\n",
       "  </tbody>\n",
       "</table>\n",
       "</div>"
      ],
      "text/plain": [
       "   Probability of Matching Birthdays  Probability of No Matching Birthdays  \\\n",
       "0                           0.000000                            100.000000   \n",
       "1                           0.273973                             99.726027   \n",
       "2                           0.820417                             99.179583   \n",
       "3                           1.635591                             98.364409   \n",
       "4                           2.713557                             97.286443   \n",
       "\n",
       "   Number of People  \n",
       "0                 1  \n",
       "1                 2  \n",
       "2                 3  \n",
       "3                 4  \n",
       "4                 5  "
      ]
     },
     "execution_count": 98,
     "metadata": {},
     "output_type": "execute_result"
    }
   ],
   "source": [
    "from math import factorial\n",
    "import pandas as pd\n",
    "import seaborn as sns\n",
    "import matplotlib.pyplot as plt\n",
    "sns.set_style\n",
    "%matplotlib inline\n",
    "\n",
    "people = range(1,366)\n",
    "probabilities = []\n",
    "\n",
    "for n in people:\n",
    "    no_birthday_probability = (factorial(365)/((365**n)*factorial(365-n)))*100\n",
    "    birthday_probability = 100-no_birthday_probability\n",
    "    probabilities.append(birthday_probability)\n",
    "    \n",
    "probability_df = pd.DataFrame(probabilities, columns=['Probability of Matching Birthdays'])\n",
    "probability_df['Probability of No Matching Birthdays'] = 100-probability_df['Probability of Matching Birthdays']\n",
    "probability_df['Number of People'] = range(1,366)\n",
    "probability_df.head()"
   ]
  },
  {
   "cell_type": "markdown",
   "metadata": {},
   "source": [
    "plt.figure(figsize=(15, 10))\n",
    "plt.plot(probability_df['Number of People'], probability_df['Probability of Matching Birthdays'])\n",
    "plt.plot(probability_df['Number of People'], probability_df['Probability of No Matching Birthdays'], color='black')\n",
    "plt.xlabel(\"Number of People\")\n",
    "plt.ylabel(\"Chance of at least one matching birthday\")\n",
    "plt.plot([23], [50], marker='o', markersize=5, color=\"red\")\n",
    "plt.show()"
   ]
  },
  {
   "cell_type": "code",
   "execution_count": 127,
   "metadata": {},
   "outputs": [
    {
     "data": {
      "image/png": "[encoded data removed]",
      "text/plain": [
       "<matplotlib.figure.Figure at 0x213020f73c8>"
      ]
     },
     "metadata": {},
     "output_type": "display_data"
    }
   ],
   "source": [
    "with plt.xkcd():\n",
    "    # Based on \"Stove Ownership\" from XKCD by Randall Monroe\n",
    "    # http://xkcd.com/418/\n",
    "\n",
    "    fig = plt.figure(figsize=(10,6))\n",
    "    #plt.figure(figsize=(15, 10))\n",
    "    ax = fig.add_axes((0.1, 0.2, 0.8, 0.7))\n",
    "    ax.spines['right'].set_color('none')\n",
    "    ax.spines['top'].set_color('none')\n",
    "    plt.xticks([0,23,100,150,200,250, 365])\n",
    "    plt.yticks([0, 25, 50, 75, 100])\n",
    "    ax.set_ylim([0, 110])\n",
    "\n",
    "   \n",
    "    plt.annotate(\n",
    "        'With 23 people in the room,\\nthere is an 50% chance of\\nat least one matching birthday',\n",
    "        xy=(25, 50), arrowprops=dict(arrowstyle='->'), xytext=(100, 25))\n",
    "\n",
    "    plt.plot(probability_df['Probability of Matching Birthdays'])\n",
    "    plt.plot([23], [50], marker='o', markersize=5, color=\"red\")\n",
    "\n",
    "    plt.xlabel('Number of People in the Room')\n",
    "    plt.ylabel('Chances of Matching Birthdays')"
   ]
  },
  {
   "cell_type": "markdown",
   "metadata": {},
   "source": [
    "> Next Steps\n",
    "\n",
    "### Let's take it a step further\n",
    "What is the probability of at least one shared birthday between at least one man and one woman?\n",
    "\n",
    "![](Images/Birthday Problem Generalization.svg)\n",
    "\n",
    "* m = # of men\n",
    "* w = # of women\n",
    "* d = 365\n",
    "* S2 are the Sterling numbers of the Second Kind\n"
   ]
  },
  {
   "cell_type": "code",
   "execution_count": 2,
   "metadata": {
    "collapsed": true
   },
   "outputs": [],
   "source": [
    "def stirling(n,k):\n",
    "    n1=n\n",
    "    k1=k\n",
    "    if n<=0:\n",
    "        return 1\n",
    "     \n",
    "    elif k<=0:\n",
    "        return 0\n",
    "     \n",
    "    elif (n==0 and k==0):\n",
    "        return -1\n",
    "     \n",
    "    elif n!=0 and n==k:\n",
    "        return 1\n",
    "     \n",
    "    elif n<k:\n",
    "        return 0\n",
    " \n",
    "    else:\n",
    "        temp1=stirling(n1-1,k1)\n",
    "        temp1=k1*temp1\n",
    "        return (k1*(stirling(n1-1,k1)))+stirling(n1-1,k1-1)"
   ]
  },
  {
   "cell_type": "code",
   "execution_count": null,
   "metadata": {
    "collapsed": true
   },
   "outputs": [],
   "source": []
  }
 ],
 "metadata": {
  "kernelspec": {
   "display_name": "Python 3",
   "language": "python",
   "name": "python3"
  },
  "language_info": {
   "codemirror_mode": {
    "name": "ipython",
    "version": 3
   },
   "file_extension": ".py",
   "mimetype": "text/x-python",
   "name": "python",
   "nbconvert_exporter": "python",
   "pygments_lexer": "ipython3",
   "version": "3.6.3"
  }
 },
 "nbformat": 4,
 "nbformat_minor": 2
}
